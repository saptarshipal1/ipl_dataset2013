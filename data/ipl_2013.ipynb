{
 "cells": [
  {
   "cell_type": "code",
   "execution_count": 2,
   "metadata": {},
   "outputs": [],
   "source": [
    "import pandas as pd\n",
    "import numpy as np\n",
    "import matplotlib.pyplot as plt\n",
    "import seaborn as sns\n",
    "%matplotlib inline\n",
    "\n",
    "from sklearn.preprocessing import OneHotEncoder,LabelEncoder,OrdinalEncoder\n",
    "\n",
    "from sklearn.model_selection import train_test_split,cross_val_score,GridSearchCV,RandomizedSearchCV\n",
    "from sklearn.preprocessing import MinMaxScaler\n",
    "from sklearn.decomposition import PCA\n",
    "\n",
    "\n",
    "from sklearn.linear_model import LinearRegression,Ridge,Lasso,ElasticNet,SGDRegressor,BayesianRidge\n",
    "from sklearn.tree import DecisionTreeRegressor\n",
    "from sklearn.ensemble import RandomForestRegressor,ExtraTreesRegressor\n",
    "from sklearn.neighbors import KNeighborsRegressor\n",
    "from sklearn.svm import SVR\n",
    "from sklearn.gaussian_process import GaussianProcessRegressor\n",
    "\n",
    "\n",
    "import statsmodels.api as sm\n",
    "import joblib"
   ]
  },
  {
   "cell_type": "code",
   "execution_count": 3,
   "metadata": {},
   "outputs": [
    {
     "data": {
      "text/plain": [
       "Index(['Sl.NO.', 'PLAYER NAME', 'AGE', 'COUNTRY', 'TEAM', 'PLAYING ROLE',\n",
       "       'T-RUNS', 'T-WKTS', 'ODI-RUNS-S', 'ODI-SR-B', 'ODI-WKTS', 'ODI-SR-BL',\n",
       "       'CAPTAINCY EXP', 'RUNS-S', 'HS', 'AVE', 'SR-B', 'SIXERS', 'RUNS-C',\n",
       "       'WKTS', 'AVE-BL', 'ECON', 'SR-BL', 'AUCTION YEAR', 'BASE PRICE',\n",
       "       'SOLD PRICE'],\n",
       "      dtype='object')"
      ]
     },
     "execution_count": 3,
     "metadata": {},
     "output_type": "execute_result"
    }
   ],
   "source": [
    "df = pd.read_csv('/Users/saptarshipal/DATA/ipl_dataset2013/data/IPL IMB381IPL2013.csv')\n",
    "\n",
    "df.columns"
   ]
  },
  {
   "cell_type": "code",
   "execution_count": 4,
   "metadata": {},
   "outputs": [
    {
     "data": {
      "text/plain": [
       "Index(['PLAYER NAME', 'AGE', 'COUNTRY', 'TEAM', 'PLAYING ROLE', 'T-RUNS',\n",
       "       'T-WKTS', 'ODI-RUNS-S', 'ODI-SR-B', 'ODI-WKTS', 'ODI-SR-BL',\n",
       "       'CAPTAINCY EXP', 'RUNS-S', 'HS', 'AVE', 'SR-B', 'SIXERS', 'RUNS-C',\n",
       "       'WKTS', 'AVE-BL', 'ECON', 'SR-BL', 'AUCTION YEAR', 'BASE PRICE',\n",
       "       'SOLD PRICE'],\n",
       "      dtype='object')"
      ]
     },
     "execution_count": 4,
     "metadata": {},
     "output_type": "execute_result"
    }
   ],
   "source": [
    "df1 = df.drop(columns='Sl.NO.',axis = 1)\n",
    "df1.columns"
   ]
  },
  {
   "cell_type": "code",
   "execution_count": 5,
   "metadata": {},
   "outputs": [
    {
     "name": "stdout",
     "output_type": "stream",
     "text": [
      "<class 'pandas.core.frame.DataFrame'>\n",
      "RangeIndex: 130 entries, 0 to 129\n",
      "Data columns (total 25 columns):\n",
      " #   Column         Non-Null Count  Dtype  \n",
      "---  ------         --------------  -----  \n",
      " 0   PLAYER NAME    130 non-null    object \n",
      " 1   AGE            130 non-null    int64  \n",
      " 2   COUNTRY        130 non-null    object \n",
      " 3   TEAM           130 non-null    object \n",
      " 4   PLAYING ROLE   130 non-null    object \n",
      " 5   T-RUNS         130 non-null    int64  \n",
      " 6   T-WKTS         130 non-null    int64  \n",
      " 7   ODI-RUNS-S     130 non-null    int64  \n",
      " 8   ODI-SR-B       130 non-null    float64\n",
      " 9   ODI-WKTS       130 non-null    int64  \n",
      " 10  ODI-SR-BL      130 non-null    float64\n",
      " 11  CAPTAINCY EXP  130 non-null    int64  \n",
      " 12  RUNS-S         130 non-null    int64  \n",
      " 13  HS             130 non-null    int64  \n",
      " 14  AVE            130 non-null    float64\n",
      " 15  SR-B           130 non-null    float64\n",
      " 16  SIXERS         130 non-null    int64  \n",
      " 17  RUNS-C         130 non-null    int64  \n",
      " 18  WKTS           130 non-null    int64  \n",
      " 19  AVE-BL         130 non-null    float64\n",
      " 20  ECON           130 non-null    float64\n",
      " 21  SR-BL          130 non-null    float64\n",
      " 22  AUCTION YEAR   130 non-null    int64  \n",
      " 23  BASE PRICE     130 non-null    int64  \n",
      " 24  SOLD PRICE     130 non-null    int64  \n",
      "dtypes: float64(7), int64(14), object(4)\n",
      "memory usage: 25.5+ KB\n"
     ]
    }
   ],
   "source": [
    "df1.info()"
   ]
  },
  {
   "cell_type": "code",
   "execution_count": 6,
   "metadata": {},
   "outputs": [
    {
     "data": {
      "text/plain": [
       "(130, 25)"
      ]
     },
     "execution_count": 6,
     "metadata": {},
     "output_type": "execute_result"
    }
   ],
   "source": [
    "df1.shape"
   ]
  },
  {
   "cell_type": "code",
   "execution_count": 7,
   "metadata": {},
   "outputs": [
    {
     "data": {
      "text/html": [
       "<div>\n",
       "<style scoped>\n",
       "    .dataframe tbody tr th:only-of-type {\n",
       "        vertical-align: middle;\n",
       "    }\n",
       "\n",
       "    .dataframe tbody tr th {\n",
       "        vertical-align: top;\n",
       "    }\n",
       "\n",
       "    .dataframe thead th {\n",
       "        text-align: right;\n",
       "    }\n",
       "</style>\n",
       "<table border=\"1\" class=\"dataframe\">\n",
       "  <thead>\n",
       "    <tr style=\"text-align: right;\">\n",
       "      <th></th>\n",
       "      <th>count</th>\n",
       "      <th>mean</th>\n",
       "      <th>std</th>\n",
       "      <th>min</th>\n",
       "      <th>25%</th>\n",
       "      <th>50%</th>\n",
       "      <th>75%</th>\n",
       "      <th>max</th>\n",
       "    </tr>\n",
       "  </thead>\n",
       "  <tbody>\n",
       "    <tr>\n",
       "      <th>AGE</th>\n",
       "      <td>130.0</td>\n",
       "      <td>2.092308</td>\n",
       "      <td>0.576627</td>\n",
       "      <td>1.0</td>\n",
       "      <td>2.0000</td>\n",
       "      <td>2.000</td>\n",
       "      <td>2.0000</td>\n",
       "      <td>3.00</td>\n",
       "    </tr>\n",
       "    <tr>\n",
       "      <th>T-RUNS</th>\n",
       "      <td>130.0</td>\n",
       "      <td>2166.715385</td>\n",
       "      <td>3305.646757</td>\n",
       "      <td>0.0</td>\n",
       "      <td>25.5000</td>\n",
       "      <td>542.500</td>\n",
       "      <td>3002.2500</td>\n",
       "      <td>15470.00</td>\n",
       "    </tr>\n",
       "    <tr>\n",
       "      <th>T-WKTS</th>\n",
       "      <td>130.0</td>\n",
       "      <td>66.530769</td>\n",
       "      <td>142.676855</td>\n",
       "      <td>0.0</td>\n",
       "      <td>0.0000</td>\n",
       "      <td>7.000</td>\n",
       "      <td>47.5000</td>\n",
       "      <td>800.00</td>\n",
       "    </tr>\n",
       "    <tr>\n",
       "      <th>ODI-RUNS-S</th>\n",
       "      <td>130.0</td>\n",
       "      <td>2508.738462</td>\n",
       "      <td>3582.205625</td>\n",
       "      <td>0.0</td>\n",
       "      <td>73.2500</td>\n",
       "      <td>835.000</td>\n",
       "      <td>3523.5000</td>\n",
       "      <td>18426.00</td>\n",
       "    </tr>\n",
       "    <tr>\n",
       "      <th>ODI-SR-B</th>\n",
       "      <td>130.0</td>\n",
       "      <td>71.164385</td>\n",
       "      <td>25.898440</td>\n",
       "      <td>0.0</td>\n",
       "      <td>65.6500</td>\n",
       "      <td>78.225</td>\n",
       "      <td>86.7900</td>\n",
       "      <td>116.66</td>\n",
       "    </tr>\n",
       "    <tr>\n",
       "      <th>ODI-WKTS</th>\n",
       "      <td>130.0</td>\n",
       "      <td>76.076923</td>\n",
       "      <td>111.205070</td>\n",
       "      <td>0.0</td>\n",
       "      <td>0.0000</td>\n",
       "      <td>18.500</td>\n",
       "      <td>106.0000</td>\n",
       "      <td>534.00</td>\n",
       "    </tr>\n",
       "    <tr>\n",
       "      <th>ODI-SR-BL</th>\n",
       "      <td>130.0</td>\n",
       "      <td>34.033846</td>\n",
       "      <td>26.751749</td>\n",
       "      <td>0.0</td>\n",
       "      <td>0.0000</td>\n",
       "      <td>36.600</td>\n",
       "      <td>45.3250</td>\n",
       "      <td>150.00</td>\n",
       "    </tr>\n",
       "    <tr>\n",
       "      <th>CAPTAINCY EXP</th>\n",
       "      <td>130.0</td>\n",
       "      <td>0.315385</td>\n",
       "      <td>0.466466</td>\n",
       "      <td>0.0</td>\n",
       "      <td>0.0000</td>\n",
       "      <td>0.000</td>\n",
       "      <td>1.0000</td>\n",
       "      <td>1.00</td>\n",
       "    </tr>\n",
       "    <tr>\n",
       "      <th>RUNS-S</th>\n",
       "      <td>130.0</td>\n",
       "      <td>514.246154</td>\n",
       "      <td>615.226335</td>\n",
       "      <td>0.0</td>\n",
       "      <td>39.0000</td>\n",
       "      <td>172.000</td>\n",
       "      <td>925.2500</td>\n",
       "      <td>2254.00</td>\n",
       "    </tr>\n",
       "    <tr>\n",
       "      <th>HS</th>\n",
       "      <td>130.0</td>\n",
       "      <td>47.430769</td>\n",
       "      <td>36.403624</td>\n",
       "      <td>0.0</td>\n",
       "      <td>16.0000</td>\n",
       "      <td>35.500</td>\n",
       "      <td>73.7500</td>\n",
       "      <td>158.00</td>\n",
       "    </tr>\n",
       "    <tr>\n",
       "      <th>AVE</th>\n",
       "      <td>130.0</td>\n",
       "      <td>18.719308</td>\n",
       "      <td>11.094224</td>\n",
       "      <td>0.0</td>\n",
       "      <td>9.8250</td>\n",
       "      <td>18.635</td>\n",
       "      <td>27.8725</td>\n",
       "      <td>50.11</td>\n",
       "    </tr>\n",
       "    <tr>\n",
       "      <th>SR-B</th>\n",
       "      <td>130.0</td>\n",
       "      <td>111.053462</td>\n",
       "      <td>35.928907</td>\n",
       "      <td>0.0</td>\n",
       "      <td>98.2375</td>\n",
       "      <td>118.510</td>\n",
       "      <td>129.1025</td>\n",
       "      <td>235.49</td>\n",
       "    </tr>\n",
       "    <tr>\n",
       "      <th>SIXERS</th>\n",
       "      <td>130.0</td>\n",
       "      <td>17.692308</td>\n",
       "      <td>23.828146</td>\n",
       "      <td>0.0</td>\n",
       "      <td>1.0000</td>\n",
       "      <td>6.000</td>\n",
       "      <td>29.7500</td>\n",
       "      <td>129.00</td>\n",
       "    </tr>\n",
       "    <tr>\n",
       "      <th>RUNS-C</th>\n",
       "      <td>130.0</td>\n",
       "      <td>475.523077</td>\n",
       "      <td>558.314049</td>\n",
       "      <td>0.0</td>\n",
       "      <td>0.0000</td>\n",
       "      <td>297.000</td>\n",
       "      <td>689.2500</td>\n",
       "      <td>1975.00</td>\n",
       "    </tr>\n",
       "    <tr>\n",
       "      <th>WKTS</th>\n",
       "      <td>130.0</td>\n",
       "      <td>17.169231</td>\n",
       "      <td>21.816763</td>\n",
       "      <td>0.0</td>\n",
       "      <td>0.0000</td>\n",
       "      <td>8.500</td>\n",
       "      <td>23.7500</td>\n",
       "      <td>83.00</td>\n",
       "    </tr>\n",
       "    <tr>\n",
       "      <th>AVE-BL</th>\n",
       "      <td>130.0</td>\n",
       "      <td>23.110231</td>\n",
       "      <td>20.802057</td>\n",
       "      <td>0.0</td>\n",
       "      <td>0.0000</td>\n",
       "      <td>24.785</td>\n",
       "      <td>35.5800</td>\n",
       "      <td>126.30</td>\n",
       "    </tr>\n",
       "    <tr>\n",
       "      <th>ECON</th>\n",
       "      <td>130.0</td>\n",
       "      <td>6.204462</td>\n",
       "      <td>4.941531</td>\n",
       "      <td>0.0</td>\n",
       "      <td>0.0000</td>\n",
       "      <td>7.380</td>\n",
       "      <td>8.2475</td>\n",
       "      <td>38.11</td>\n",
       "    </tr>\n",
       "    <tr>\n",
       "      <th>SR-BL</th>\n",
       "      <td>130.0</td>\n",
       "      <td>17.382615</td>\n",
       "      <td>15.273422</td>\n",
       "      <td>0.0</td>\n",
       "      <td>0.0000</td>\n",
       "      <td>19.935</td>\n",
       "      <td>26.2125</td>\n",
       "      <td>100.20</td>\n",
       "    </tr>\n",
       "    <tr>\n",
       "      <th>AUCTION YEAR</th>\n",
       "      <td>130.0</td>\n",
       "      <td>2009.092308</td>\n",
       "      <td>1.377821</td>\n",
       "      <td>2008.0</td>\n",
       "      <td>2008.0000</td>\n",
       "      <td>2008.000</td>\n",
       "      <td>2011.0000</td>\n",
       "      <td>2011.00</td>\n",
       "    </tr>\n",
       "    <tr>\n",
       "      <th>BASE PRICE</th>\n",
       "      <td>130.0</td>\n",
       "      <td>192230.769231</td>\n",
       "      <td>153097.300897</td>\n",
       "      <td>20000.0</td>\n",
       "      <td>100000.0000</td>\n",
       "      <td>200000.000</td>\n",
       "      <td>225000.0000</td>\n",
       "      <td>1350000.00</td>\n",
       "    </tr>\n",
       "    <tr>\n",
       "      <th>SOLD PRICE</th>\n",
       "      <td>130.0</td>\n",
       "      <td>521223.076923</td>\n",
       "      <td>406807.351419</td>\n",
       "      <td>20000.0</td>\n",
       "      <td>225000.0000</td>\n",
       "      <td>437500.000</td>\n",
       "      <td>700000.0000</td>\n",
       "      <td>1800000.00</td>\n",
       "    </tr>\n",
       "  </tbody>\n",
       "</table>\n",
       "</div>"
      ],
      "text/plain": [
       "               count           mean            std      min          25%  \\\n",
       "AGE            130.0       2.092308       0.576627      1.0       2.0000   \n",
       "T-RUNS         130.0    2166.715385    3305.646757      0.0      25.5000   \n",
       "T-WKTS         130.0      66.530769     142.676855      0.0       0.0000   \n",
       "ODI-RUNS-S     130.0    2508.738462    3582.205625      0.0      73.2500   \n",
       "ODI-SR-B       130.0      71.164385      25.898440      0.0      65.6500   \n",
       "ODI-WKTS       130.0      76.076923     111.205070      0.0       0.0000   \n",
       "ODI-SR-BL      130.0      34.033846      26.751749      0.0       0.0000   \n",
       "CAPTAINCY EXP  130.0       0.315385       0.466466      0.0       0.0000   \n",
       "RUNS-S         130.0     514.246154     615.226335      0.0      39.0000   \n",
       "HS             130.0      47.430769      36.403624      0.0      16.0000   \n",
       "AVE            130.0      18.719308      11.094224      0.0       9.8250   \n",
       "SR-B           130.0     111.053462      35.928907      0.0      98.2375   \n",
       "SIXERS         130.0      17.692308      23.828146      0.0       1.0000   \n",
       "RUNS-C         130.0     475.523077     558.314049      0.0       0.0000   \n",
       "WKTS           130.0      17.169231      21.816763      0.0       0.0000   \n",
       "AVE-BL         130.0      23.110231      20.802057      0.0       0.0000   \n",
       "ECON           130.0       6.204462       4.941531      0.0       0.0000   \n",
       "SR-BL          130.0      17.382615      15.273422      0.0       0.0000   \n",
       "AUCTION YEAR   130.0    2009.092308       1.377821   2008.0    2008.0000   \n",
       "BASE PRICE     130.0  192230.769231  153097.300897  20000.0  100000.0000   \n",
       "SOLD PRICE     130.0  521223.076923  406807.351419  20000.0  225000.0000   \n",
       "\n",
       "                      50%          75%         max  \n",
       "AGE                 2.000       2.0000        3.00  \n",
       "T-RUNS            542.500    3002.2500    15470.00  \n",
       "T-WKTS              7.000      47.5000      800.00  \n",
       "ODI-RUNS-S        835.000    3523.5000    18426.00  \n",
       "ODI-SR-B           78.225      86.7900      116.66  \n",
       "ODI-WKTS           18.500     106.0000      534.00  \n",
       "ODI-SR-BL          36.600      45.3250      150.00  \n",
       "CAPTAINCY EXP       0.000       1.0000        1.00  \n",
       "RUNS-S            172.000     925.2500     2254.00  \n",
       "HS                 35.500      73.7500      158.00  \n",
       "AVE                18.635      27.8725       50.11  \n",
       "SR-B              118.510     129.1025      235.49  \n",
       "SIXERS              6.000      29.7500      129.00  \n",
       "RUNS-C            297.000     689.2500     1975.00  \n",
       "WKTS                8.500      23.7500       83.00  \n",
       "AVE-BL             24.785      35.5800      126.30  \n",
       "ECON                7.380       8.2475       38.11  \n",
       "SR-BL              19.935      26.2125      100.20  \n",
       "AUCTION YEAR     2008.000    2011.0000     2011.00  \n",
       "BASE PRICE     200000.000  225000.0000  1350000.00  \n",
       "SOLD PRICE     437500.000  700000.0000  1800000.00  "
      ]
     },
     "execution_count": 7,
     "metadata": {},
     "output_type": "execute_result"
    }
   ],
   "source": [
    "df1.describe().transpose()"
   ]
  },
  {
   "cell_type": "code",
   "execution_count": 8,
   "metadata": {},
   "outputs": [],
   "source": [
    "#set the no.of columns on display\n",
    "\n",
    "#pd.set_option('display.max_columns',7)"
   ]
  },
  {
   "cell_type": "code",
   "execution_count": 9,
   "metadata": {},
   "outputs": [
    {
     "data": {
      "text/html": [
       "<div>\n",
       "<style scoped>\n",
       "    .dataframe tbody tr th:only-of-type {\n",
       "        vertical-align: middle;\n",
       "    }\n",
       "\n",
       "    .dataframe tbody tr th {\n",
       "        vertical-align: top;\n",
       "    }\n",
       "\n",
       "    .dataframe thead th {\n",
       "        text-align: right;\n",
       "    }\n",
       "</style>\n",
       "<table border=\"1\" class=\"dataframe\">\n",
       "  <thead>\n",
       "    <tr style=\"text-align: right;\">\n",
       "      <th>PLAYING ROLE</th>\n",
       "      <th>Allrounder</th>\n",
       "      <th>Batsman</th>\n",
       "      <th>Bowler</th>\n",
       "      <th>W. Keeper</th>\n",
       "    </tr>\n",
       "    <tr>\n",
       "      <th>AGE</th>\n",
       "      <th></th>\n",
       "      <th></th>\n",
       "      <th></th>\n",
       "      <th></th>\n",
       "    </tr>\n",
       "  </thead>\n",
       "  <tbody>\n",
       "    <tr>\n",
       "      <th>1</th>\n",
       "      <td>4</td>\n",
       "      <td>5</td>\n",
       "      <td>7</td>\n",
       "      <td>0</td>\n",
       "    </tr>\n",
       "    <tr>\n",
       "      <th>2</th>\n",
       "      <td>25</td>\n",
       "      <td>21</td>\n",
       "      <td>29</td>\n",
       "      <td>11</td>\n",
       "    </tr>\n",
       "    <tr>\n",
       "      <th>3</th>\n",
       "      <td>6</td>\n",
       "      <td>13</td>\n",
       "      <td>8</td>\n",
       "      <td>1</td>\n",
       "    </tr>\n",
       "  </tbody>\n",
       "</table>\n",
       "</div>"
      ],
      "text/plain": [
       "PLAYING ROLE  Allrounder  Batsman  Bowler  W. Keeper\n",
       "AGE                                                 \n",
       "1                      4        5       7          0\n",
       "2                     25       21      29         11\n",
       "3                      6       13       8          1"
      ]
     },
     "execution_count": 9,
     "metadata": {},
     "output_type": "execute_result"
    }
   ],
   "source": [
    "pd.crosstab(df1['AGE'],df1['PLAYING ROLE'])"
   ]
  },
  {
   "cell_type": "code",
   "execution_count": 10,
   "metadata": {},
   "outputs": [
    {
     "data": {
      "text/html": [
       "<div>\n",
       "<style scoped>\n",
       "    .dataframe tbody tr th:only-of-type {\n",
       "        vertical-align: middle;\n",
       "    }\n",
       "\n",
       "    .dataframe tbody tr th {\n",
       "        vertical-align: top;\n",
       "    }\n",
       "\n",
       "    .dataframe thead th {\n",
       "        text-align: right;\n",
       "    }\n",
       "</style>\n",
       "<table border=\"1\" class=\"dataframe\">\n",
       "  <thead>\n",
       "    <tr style=\"text-align: right;\">\n",
       "      <th></th>\n",
       "      <th>PLAYER NAME</th>\n",
       "      <th>SOLD PRICE</th>\n",
       "    </tr>\n",
       "  </thead>\n",
       "  <tbody>\n",
       "    <tr>\n",
       "      <th>73</th>\n",
       "      <td>Noffke, AA</td>\n",
       "      <td>20000</td>\n",
       "    </tr>\n",
       "    <tr>\n",
       "      <th>46</th>\n",
       "      <td>Kamran Khan</td>\n",
       "      <td>24000</td>\n",
       "    </tr>\n",
       "    <tr>\n",
       "      <th>0</th>\n",
       "      <td>Abdulla, YA</td>\n",
       "      <td>50000</td>\n",
       "    </tr>\n",
       "    <tr>\n",
       "      <th>1</th>\n",
       "      <td>Abdur Razzak</td>\n",
       "      <td>50000</td>\n",
       "    </tr>\n",
       "    <tr>\n",
       "      <th>118</th>\n",
       "      <td>Van der Merwe</td>\n",
       "      <td>50000</td>\n",
       "    </tr>\n",
       "  </tbody>\n",
       "</table>\n",
       "</div>"
      ],
      "text/plain": [
       "       PLAYER NAME  SOLD PRICE\n",
       "73      Noffke, AA       20000\n",
       "46     Kamran Khan       24000\n",
       "0      Abdulla, YA       50000\n",
       "1     Abdur Razzak       50000\n",
       "118  Van der Merwe       50000"
      ]
     },
     "execution_count": 10,
     "metadata": {},
     "output_type": "execute_result"
    }
   ],
   "source": [
    "df1[['PLAYER NAME','SOLD PRICE']].sort_values('SOLD PRICE')[0:5]"
   ]
  },
  {
   "cell_type": "code",
   "execution_count": 11,
   "metadata": {},
   "outputs": [
    {
     "data": {
      "text/html": [
       "<div>\n",
       "<style scoped>\n",
       "    .dataframe tbody tr th:only-of-type {\n",
       "        vertical-align: middle;\n",
       "    }\n",
       "\n",
       "    .dataframe tbody tr th {\n",
       "        vertical-align: top;\n",
       "    }\n",
       "\n",
       "    .dataframe thead th {\n",
       "        text-align: right;\n",
       "    }\n",
       "</style>\n",
       "<table border=\"1\" class=\"dataframe\">\n",
       "  <thead>\n",
       "    <tr style=\"text-align: right;\">\n",
       "      <th></th>\n",
       "      <th>PLAYER NAME</th>\n",
       "      <th>SOLD PRICE</th>\n",
       "    </tr>\n",
       "  </thead>\n",
       "  <tbody>\n",
       "    <tr>\n",
       "      <th>93</th>\n",
       "      <td>Sehwag, V</td>\n",
       "      <td>1800000</td>\n",
       "    </tr>\n",
       "    <tr>\n",
       "      <th>127</th>\n",
       "      <td>Yuvraj Singh</td>\n",
       "      <td>1800000</td>\n",
       "    </tr>\n",
       "    <tr>\n",
       "      <th>50</th>\n",
       "      <td>Kohli, V</td>\n",
       "      <td>1800000</td>\n",
       "    </tr>\n",
       "    <tr>\n",
       "      <th>111</th>\n",
       "      <td>Tendulkar, SR</td>\n",
       "      <td>1800000</td>\n",
       "    </tr>\n",
       "    <tr>\n",
       "      <th>113</th>\n",
       "      <td>Tiwary, SS</td>\n",
       "      <td>1600000</td>\n",
       "    </tr>\n",
       "  </tbody>\n",
       "</table>\n",
       "</div>"
      ],
      "text/plain": [
       "       PLAYER NAME  SOLD PRICE\n",
       "93       Sehwag, V     1800000\n",
       "127   Yuvraj Singh     1800000\n",
       "50        Kohli, V     1800000\n",
       "111  Tendulkar, SR     1800000\n",
       "113     Tiwary, SS     1600000"
      ]
     },
     "execution_count": 11,
     "metadata": {},
     "output_type": "execute_result"
    }
   ],
   "source": [
    "df1[['PLAYER NAME','SOLD PRICE']].sort_values('SOLD PRICE',ascending = False)[0:5]"
   ]
  },
  {
   "cell_type": "code",
   "execution_count": 12,
   "metadata": {},
   "outputs": [
    {
     "data": {
      "text/html": [
       "<div>\n",
       "<style scoped>\n",
       "    .dataframe tbody tr th:only-of-type {\n",
       "        vertical-align: middle;\n",
       "    }\n",
       "\n",
       "    .dataframe tbody tr th {\n",
       "        vertical-align: top;\n",
       "    }\n",
       "\n",
       "    .dataframe thead th {\n",
       "        text-align: right;\n",
       "    }\n",
       "</style>\n",
       "<table border=\"1\" class=\"dataframe\">\n",
       "  <thead>\n",
       "    <tr style=\"text-align: right;\">\n",
       "      <th></th>\n",
       "      <th>SOLD PRICE</th>\n",
       "      <th>BASE PRICE</th>\n",
       "      <th>premium</th>\n",
       "    </tr>\n",
       "  </thead>\n",
       "  <tbody>\n",
       "    <tr>\n",
       "      <th>93</th>\n",
       "      <td>1800000</td>\n",
       "      <td>400000</td>\n",
       "      <td>1400000</td>\n",
       "    </tr>\n",
       "    <tr>\n",
       "      <th>127</th>\n",
       "      <td>1800000</td>\n",
       "      <td>400000</td>\n",
       "      <td>1400000</td>\n",
       "    </tr>\n",
       "    <tr>\n",
       "      <th>50</th>\n",
       "      <td>1800000</td>\n",
       "      <td>150000</td>\n",
       "      <td>1650000</td>\n",
       "    </tr>\n",
       "    <tr>\n",
       "      <th>111</th>\n",
       "      <td>1800000</td>\n",
       "      <td>400000</td>\n",
       "      <td>1400000</td>\n",
       "    </tr>\n",
       "    <tr>\n",
       "      <th>113</th>\n",
       "      <td>1600000</td>\n",
       "      <td>100000</td>\n",
       "      <td>1500000</td>\n",
       "    </tr>\n",
       "  </tbody>\n",
       "</table>\n",
       "</div>"
      ],
      "text/plain": [
       "     SOLD PRICE  BASE PRICE  premium\n",
       "93      1800000      400000  1400000\n",
       "127     1800000      400000  1400000\n",
       "50      1800000      150000  1650000\n",
       "111     1800000      400000  1400000\n",
       "113     1600000      100000  1500000"
      ]
     },
     "execution_count": 12,
     "metadata": {},
     "output_type": "execute_result"
    }
   ],
   "source": [
    "df1['premium'] = df1['SOLD PRICE'] - df1['BASE PRICE']\n",
    "df1[['SOLD PRICE','BASE PRICE','premium']].sort_values('SOLD PRICE', ascending = False)[0:5]"
   ]
  },
  {
   "cell_type": "code",
   "execution_count": 13,
   "metadata": {},
   "outputs": [
    {
     "data": {
      "text/plain": [
       "AGE\n",
       "1    720250.000000\n",
       "2    484534.883721\n",
       "3    520178.571429\n",
       "Name: SOLD PRICE, dtype: float64"
      ]
     },
     "execution_count": 13,
     "metadata": {},
     "output_type": "execute_result"
    }
   ],
   "source": [
    "df1.groupby('AGE')['SOLD PRICE'].mean()"
   ]
  },
  {
   "cell_type": "code",
   "execution_count": 14,
   "metadata": {},
   "outputs": [
    {
     "name": "stdout",
     "output_type": "stream",
     "text": [
      "    AGE PLAYING ROLE    SOLD PRICE\n",
      "0     1   Allrounder  5.875000e+05\n",
      "1     1      Batsman  1.110000e+06\n",
      "2     1       Bowler  5.177143e+05\n",
      "3     2   Allrounder  4.494000e+05\n",
      "4     2      Batsman  6.547619e+05\n",
      "5     2       Bowler  3.979310e+05\n",
      "6     2    W. Keeper  4.677273e+05\n",
      "7     3   Allrounder  7.666667e+05\n",
      "8     3      Batsman  4.576923e+05\n",
      "9     3       Bowler  4.143750e+05\n",
      "10    3    W. Keeper  7.000000e+05\n"
     ]
    }
   ],
   "source": [
    "soldprice_by_age_role = df1.groupby(['AGE','PLAYING ROLE'])['SOLD PRICE'].mean().reset_index()\n",
    "print(soldprice_by_age_role)"
   ]
  },
  {
   "cell_type": "code",
   "execution_count": 15,
   "metadata": {},
   "outputs": [
    {
     "data": {
      "text/html": [
       "<div>\n",
       "<style scoped>\n",
       "    .dataframe tbody tr th:only-of-type {\n",
       "        vertical-align: middle;\n",
       "    }\n",
       "\n",
       "    .dataframe tbody tr th {\n",
       "        vertical-align: top;\n",
       "    }\n",
       "\n",
       "    .dataframe thead th {\n",
       "        text-align: right;\n",
       "    }\n",
       "</style>\n",
       "<table border=\"1\" class=\"dataframe\">\n",
       "  <thead>\n",
       "    <tr style=\"text-align: right;\">\n",
       "      <th></th>\n",
       "      <th>PLAYER NAME</th>\n",
       "      <th>AGE</th>\n",
       "      <th>COUNTRY</th>\n",
       "      <th>TEAM</th>\n",
       "      <th>PLAYING ROLE</th>\n",
       "      <th>T-RUNS</th>\n",
       "      <th>T-WKTS</th>\n",
       "      <th>ODI-RUNS-S</th>\n",
       "      <th>ODI-SR-B</th>\n",
       "      <th>ODI-WKTS</th>\n",
       "      <th>...</th>\n",
       "      <th>SIXERS</th>\n",
       "      <th>RUNS-C</th>\n",
       "      <th>WKTS</th>\n",
       "      <th>AVE-BL</th>\n",
       "      <th>ECON</th>\n",
       "      <th>SR-BL</th>\n",
       "      <th>AUCTION YEAR</th>\n",
       "      <th>BASE PRICE</th>\n",
       "      <th>SOLD PRICE</th>\n",
       "      <th>premium</th>\n",
       "    </tr>\n",
       "  </thead>\n",
       "  <tbody>\n",
       "    <tr>\n",
       "      <th>0</th>\n",
       "      <td>Abdulla, YA</td>\n",
       "      <td>2</td>\n",
       "      <td>SA</td>\n",
       "      <td>KXIP</td>\n",
       "      <td>Allrounder</td>\n",
       "      <td>0</td>\n",
       "      <td>0</td>\n",
       "      <td>0</td>\n",
       "      <td>0.00</td>\n",
       "      <td>0</td>\n",
       "      <td>...</td>\n",
       "      <td>0</td>\n",
       "      <td>307</td>\n",
       "      <td>15</td>\n",
       "      <td>20.47</td>\n",
       "      <td>8.90</td>\n",
       "      <td>13.93</td>\n",
       "      <td>2009</td>\n",
       "      <td>50000</td>\n",
       "      <td>50000</td>\n",
       "      <td>0</td>\n",
       "    </tr>\n",
       "    <tr>\n",
       "      <th>1</th>\n",
       "      <td>Abdur Razzak</td>\n",
       "      <td>2</td>\n",
       "      <td>BAN</td>\n",
       "      <td>RCB</td>\n",
       "      <td>Bowler</td>\n",
       "      <td>214</td>\n",
       "      <td>18</td>\n",
       "      <td>657</td>\n",
       "      <td>71.41</td>\n",
       "      <td>185</td>\n",
       "      <td>...</td>\n",
       "      <td>0</td>\n",
       "      <td>29</td>\n",
       "      <td>0</td>\n",
       "      <td>0.00</td>\n",
       "      <td>14.50</td>\n",
       "      <td>0.00</td>\n",
       "      <td>2008</td>\n",
       "      <td>50000</td>\n",
       "      <td>50000</td>\n",
       "      <td>0</td>\n",
       "    </tr>\n",
       "    <tr>\n",
       "      <th>2</th>\n",
       "      <td>Agarkar, AB</td>\n",
       "      <td>2</td>\n",
       "      <td>IND</td>\n",
       "      <td>KKR</td>\n",
       "      <td>Bowler</td>\n",
       "      <td>571</td>\n",
       "      <td>58</td>\n",
       "      <td>1269</td>\n",
       "      <td>80.62</td>\n",
       "      <td>288</td>\n",
       "      <td>...</td>\n",
       "      <td>5</td>\n",
       "      <td>1059</td>\n",
       "      <td>29</td>\n",
       "      <td>36.52</td>\n",
       "      <td>8.81</td>\n",
       "      <td>24.90</td>\n",
       "      <td>2008</td>\n",
       "      <td>200000</td>\n",
       "      <td>350000</td>\n",
       "      <td>150000</td>\n",
       "    </tr>\n",
       "    <tr>\n",
       "      <th>3</th>\n",
       "      <td>Ashwin, R</td>\n",
       "      <td>1</td>\n",
       "      <td>IND</td>\n",
       "      <td>CSK</td>\n",
       "      <td>Bowler</td>\n",
       "      <td>284</td>\n",
       "      <td>31</td>\n",
       "      <td>241</td>\n",
       "      <td>84.56</td>\n",
       "      <td>51</td>\n",
       "      <td>...</td>\n",
       "      <td>0</td>\n",
       "      <td>1125</td>\n",
       "      <td>49</td>\n",
       "      <td>22.96</td>\n",
       "      <td>6.23</td>\n",
       "      <td>22.14</td>\n",
       "      <td>2011</td>\n",
       "      <td>100000</td>\n",
       "      <td>850000</td>\n",
       "      <td>750000</td>\n",
       "    </tr>\n",
       "    <tr>\n",
       "      <th>4</th>\n",
       "      <td>Badrinath, S</td>\n",
       "      <td>2</td>\n",
       "      <td>IND</td>\n",
       "      <td>CSK</td>\n",
       "      <td>Batsman</td>\n",
       "      <td>63</td>\n",
       "      <td>0</td>\n",
       "      <td>79</td>\n",
       "      <td>45.93</td>\n",
       "      <td>0</td>\n",
       "      <td>...</td>\n",
       "      <td>28</td>\n",
       "      <td>0</td>\n",
       "      <td>0</td>\n",
       "      <td>0.00</td>\n",
       "      <td>0.00</td>\n",
       "      <td>0.00</td>\n",
       "      <td>2011</td>\n",
       "      <td>100000</td>\n",
       "      <td>800000</td>\n",
       "      <td>700000</td>\n",
       "    </tr>\n",
       "  </tbody>\n",
       "</table>\n",
       "<p>5 rows × 26 columns</p>\n",
       "</div>"
      ],
      "text/plain": [
       "    PLAYER NAME  AGE COUNTRY  TEAM PLAYING ROLE  T-RUNS  T-WKTS  ODI-RUNS-S  \\\n",
       "0   Abdulla, YA    2      SA  KXIP   Allrounder       0       0           0   \n",
       "1  Abdur Razzak    2     BAN   RCB       Bowler     214      18         657   \n",
       "2   Agarkar, AB    2     IND   KKR       Bowler     571      58        1269   \n",
       "3     Ashwin, R    1     IND   CSK       Bowler     284      31         241   \n",
       "4  Badrinath, S    2     IND   CSK      Batsman      63       0          79   \n",
       "\n",
       "   ODI-SR-B  ODI-WKTS  ...  SIXERS  RUNS-C  WKTS  AVE-BL   ECON  SR-BL  \\\n",
       "0      0.00         0  ...       0     307    15   20.47   8.90  13.93   \n",
       "1     71.41       185  ...       0      29     0    0.00  14.50   0.00   \n",
       "2     80.62       288  ...       5    1059    29   36.52   8.81  24.90   \n",
       "3     84.56        51  ...       0    1125    49   22.96   6.23  22.14   \n",
       "4     45.93         0  ...      28       0     0    0.00   0.00   0.00   \n",
       "\n",
       "   AUCTION YEAR  BASE PRICE  SOLD PRICE  premium  \n",
       "0          2009       50000       50000        0  \n",
       "1          2008       50000       50000        0  \n",
       "2          2008      200000      350000   150000  \n",
       "3          2011      100000      850000   750000  \n",
       "4          2011      100000      800000   700000  \n",
       "\n",
       "[5 rows x 26 columns]"
      ]
     },
     "execution_count": 15,
     "metadata": {},
     "output_type": "execute_result"
    }
   ],
   "source": [
    "df1.head()"
   ]
  },
  {
   "cell_type": "code",
   "execution_count": null,
   "metadata": {},
   "outputs": [],
   "source": [
    "# Label Encoder"
   ]
  },
  {
   "cell_type": "code",
   "execution_count": 26,
   "metadata": {},
   "outputs": [
    {
     "data": {
      "text/plain": [
       "Index(['PLAYER NAME', 'COUNTRY', 'TEAM', 'PLAYING ROLE'], dtype='object')"
      ]
     },
     "execution_count": 26,
     "metadata": {},
     "output_type": "execute_result"
    }
   ],
   "source": [
    "cat_features = df1.columns[df1.dtypes == 'object']\n",
    "cat_features"
   ]
  },
  {
   "cell_type": "code",
   "execution_count": 27,
   "metadata": {},
   "outputs": [
    {
     "data": {
      "text/plain": [
       "Index(['AGE', 'T-RUNS', 'T-WKTS', 'ODI-RUNS-S', 'ODI-SR-B', 'ODI-WKTS',\n",
       "       'ODI-SR-BL', 'CAPTAINCY EXP', 'RUNS-S', 'HS', 'AVE', 'SR-B', 'SIXERS',\n",
       "       'RUNS-C', 'WKTS', 'AVE-BL', 'ECON', 'SR-BL', 'AUCTION YEAR',\n",
       "       'BASE PRICE', 'SOLD PRICE', 'premium'],\n",
       "      dtype='object')"
      ]
     },
     "execution_count": 27,
     "metadata": {},
     "output_type": "execute_result"
    }
   ],
   "source": [
    "num_features = df1.columns[df1.dtypes != 'object']\n",
    "num_features"
   ]
  },
  {
   "cell_type": "code",
   "execution_count": 28,
   "metadata": {},
   "outputs": [],
   "source": [
    "df_num = df1[num_features]\n"
   ]
  },
  {
   "cell_type": "code",
   "execution_count": 44,
   "metadata": {},
   "outputs": [
    {
     "data": {
      "image/png": "[encoded data removed]",
      "text/plain": [
       "<Figure size 640x480 with 2 Axes>"
      ]
     },
     "metadata": {},
     "output_type": "display_data"
    }
   ],
   "source": [
    "sns.heatmap(df_num.corr()[['premium']],annot = True)\n",
    "plt.show()"
   ]
  },
  {
   "cell_type": "code",
   "execution_count": 40,
   "metadata": {},
   "outputs": [
    {
     "data": {
      "text/html": [
       "<div>\n",
       "<style scoped>\n",
       "    .dataframe tbody tr th:only-of-type {\n",
       "        vertical-align: middle;\n",
       "    }\n",
       "\n",
       "    .dataframe tbody tr th {\n",
       "        vertical-align: top;\n",
       "    }\n",
       "\n",
       "    .dataframe thead th {\n",
       "        text-align: right;\n",
       "    }\n",
       "</style>\n",
       "<table border=\"1\" class=\"dataframe\">\n",
       "  <thead>\n",
       "    <tr style=\"text-align: right;\">\n",
       "      <th></th>\n",
       "      <th>premium</th>\n",
       "    </tr>\n",
       "  </thead>\n",
       "  <tbody>\n",
       "    <tr>\n",
       "      <th>AGE</th>\n",
       "      <td>-0.213915</td>\n",
       "    </tr>\n",
       "    <tr>\n",
       "      <th>T-WKTS</th>\n",
       "      <td>-0.052931</td>\n",
       "    </tr>\n",
       "    <tr>\n",
       "      <th>ODI-SR-BL</th>\n",
       "      <td>0.039914</td>\n",
       "    </tr>\n",
       "    <tr>\n",
       "      <th>ODI-WKTS</th>\n",
       "      <td>0.040837</td>\n",
       "    </tr>\n",
       "    <tr>\n",
       "      <th>T-RUNS</th>\n",
       "      <td>0.060050</td>\n",
       "    </tr>\n",
       "    <tr>\n",
       "      <th>ECON</th>\n",
       "      <td>0.066776</td>\n",
       "    </tr>\n",
       "    <tr>\n",
       "      <th>WKTS</th>\n",
       "      <td>0.084704</td>\n",
       "    </tr>\n",
       "    <tr>\n",
       "      <th>ODI-SR-B</th>\n",
       "      <td>0.137325</td>\n",
       "    </tr>\n",
       "    <tr>\n",
       "      <th>SR-BL</th>\n",
       "      <td>0.137593</td>\n",
       "    </tr>\n",
       "    <tr>\n",
       "      <th>AVE-BL</th>\n",
       "      <td>0.151123</td>\n",
       "    </tr>\n",
       "    <tr>\n",
       "      <th>RUNS-C</th>\n",
       "      <td>0.151161</td>\n",
       "    </tr>\n",
       "    <tr>\n",
       "      <th>SR-B</th>\n",
       "      <td>0.157637</td>\n",
       "    </tr>\n",
       "    <tr>\n",
       "      <th>BASE PRICE</th>\n",
       "      <td>0.170212</td>\n",
       "    </tr>\n",
       "    <tr>\n",
       "      <th>CAPTAINCY EXP</th>\n",
       "      <td>0.172747</td>\n",
       "    </tr>\n",
       "    <tr>\n",
       "      <th>AUCTION YEAR</th>\n",
       "      <td>0.208533</td>\n",
       "    </tr>\n",
       "    <tr>\n",
       "      <th>ODI-RUNS-S</th>\n",
       "      <td>0.221423</td>\n",
       "    </tr>\n",
       "    <tr>\n",
       "      <th>HS</th>\n",
       "      <td>0.299871</td>\n",
       "    </tr>\n",
       "    <tr>\n",
       "      <th>AVE</th>\n",
       "      <td>0.313299</td>\n",
       "    </tr>\n",
       "    <tr>\n",
       "      <th>SIXERS</th>\n",
       "      <td>0.450691</td>\n",
       "    </tr>\n",
       "    <tr>\n",
       "      <th>RUNS-S</th>\n",
       "      <td>0.475867</td>\n",
       "    </tr>\n",
       "    <tr>\n",
       "      <th>SOLD PRICE</th>\n",
       "      <td>0.928694</td>\n",
       "    </tr>\n",
       "    <tr>\n",
       "      <th>premium</th>\n",
       "      <td>1.000000</td>\n",
       "    </tr>\n",
       "  </tbody>\n",
       "</table>\n",
       "</div>"
      ],
      "text/plain": [
       "                premium\n",
       "AGE           -0.213915\n",
       "T-WKTS        -0.052931\n",
       "ODI-SR-BL      0.039914\n",
       "ODI-WKTS       0.040837\n",
       "T-RUNS         0.060050\n",
       "ECON           0.066776\n",
       "WKTS           0.084704\n",
       "ODI-SR-B       0.137325\n",
       "SR-BL          0.137593\n",
       "AVE-BL         0.151123\n",
       "RUNS-C         0.151161\n",
       "SR-B           0.157637\n",
       "BASE PRICE     0.170212\n",
       "CAPTAINCY EXP  0.172747\n",
       "AUCTION YEAR   0.208533\n",
       "ODI-RUNS-S     0.221423\n",
       "HS             0.299871\n",
       "AVE            0.313299\n",
       "SIXERS         0.450691\n",
       "RUNS-S         0.475867\n",
       "SOLD PRICE     0.928694\n",
       "premium        1.000000"
      ]
     },
     "execution_count": 40,
     "metadata": {},
     "output_type": "execute_result"
    }
   ],
   "source": [
    "df_num.corr()[['premium']].sort_values(by='premium',ascending =True)"
   ]
  },
  {
   "cell_type": "code",
   "execution_count": null,
   "metadata": {},
   "outputs": [],
   "source": [
    "#PCA"
   ]
  },
  {
   "cell_type": "code",
   "execution_count": 465,
   "metadata": {},
   "outputs": [],
   "source": [
    "# Splitting the dataset in X and Y\n",
    "\n",
    "y = df_num['SOLD PRICE']\n",
    "X = df_num.drop(columns=['SOLD PRICE'], axis =1)"
   ]
  },
  {
   "cell_type": "code",
   "execution_count": 466,
   "metadata": {},
   "outputs": [
    {
     "name": "stdout",
     "output_type": "stream",
     "text": [
      "(26, 21)\n",
      "(104, 21)\n",
      "(26,)\n",
      "(104,)\n"
     ]
    }
   ],
   "source": [
    "X_train,X_test,y_train,y_test = train_test_split(X,y,test_size=0.2,random_state=123,shuffle = True)\n",
    "\n",
    "print(X_test.shape)\n",
    "print(X_train.shape)\n",
    "print(y_test.shape)\n",
    "print(y_train.shape)\n"
   ]
  },
  {
   "cell_type": "code",
   "execution_count": 467,
   "metadata": {},
   "outputs": [
    {
     "data": {
      "text/html": [
       "<style>#sk-container-id-1 {color: black;background-color: white;}#sk-container-id-1 pre{padding: 0;}#sk-container-id-1 div.sk-toggleable {background-color: white;}#sk-container-id-1 label.sk-toggleable__label {cursor: pointer;display: block;width: 100%;margin-bottom: 0;padding: 0.3em;box-sizing: border-box;text-align: center;}#sk-container-id-1 label.sk-toggleable__label-arrow:before {content: \"▸\";float: left;margin-right: 0.25em;color: #696969;}#sk-container-id-1 label.sk-toggleable__label-arrow:hover:before {color: black;}#sk-container-id-1 div.sk-estimator:hover label.sk-toggleable__label-arrow:before {color: black;}#sk-container-id-1 div.sk-toggleable__content {max-height: 0;max-width: 0;overflow: hidden;text-align: left;background-color: #f0f8ff;}#sk-container-id-1 div.sk-toggleable__content pre {margin: 0.2em;color: black;border-radius: 0.25em;background-color: #f0f8ff;}#sk-container-id-1 input.sk-toggleable__control:checked~div.sk-toggleable__content {max-height: 200px;max-width: 100%;overflow: auto;}#sk-container-id-1 input.sk-toggleable__control:checked~label.sk-toggleable__label-arrow:before {content: \"▾\";}#sk-container-id-1 div.sk-estimator input.sk-toggleable__control:checked~label.sk-toggleable__label {background-color: #d4ebff;}#sk-container-id-1 div.sk-label input.sk-toggleable__control:checked~label.sk-toggleable__label {background-color: #d4ebff;}#sk-container-id-1 input.sk-hidden--visually {border: 0;clip: rect(1px 1px 1px 1px);clip: rect(1px, 1px, 1px, 1px);height: 1px;margin: -1px;overflow: hidden;padding: 0;position: absolute;width: 1px;}#sk-container-id-1 div.sk-estimator {font-family: monospace;background-color: #f0f8ff;border: 1px dotted black;border-radius: 0.25em;box-sizing: border-box;margin-bottom: 0.5em;}#sk-container-id-1 div.sk-estimator:hover {background-color: #d4ebff;}#sk-container-id-1 div.sk-parallel-item::after {content: \"\";width: 100%;border-bottom: 1px solid gray;flex-grow: 1;}#sk-container-id-1 div.sk-label:hover label.sk-toggleable__label {background-color: #d4ebff;}#sk-container-id-1 div.sk-serial::before {content: \"\";position: absolute;border-left: 1px solid gray;box-sizing: border-box;top: 0;bottom: 0;left: 50%;z-index: 0;}#sk-container-id-1 div.sk-serial {display: flex;flex-direction: column;align-items: center;background-color: white;padding-right: 0.2em;padding-left: 0.2em;position: relative;}#sk-container-id-1 div.sk-item {position: relative;z-index: 1;}#sk-container-id-1 div.sk-parallel {display: flex;align-items: stretch;justify-content: center;background-color: white;position: relative;}#sk-container-id-1 div.sk-item::before, #sk-container-id-1 div.sk-parallel-item::before {content: \"\";position: absolute;border-left: 1px solid gray;box-sizing: border-box;top: 0;bottom: 0;left: 50%;z-index: -1;}#sk-container-id-1 div.sk-parallel-item {display: flex;flex-direction: column;z-index: 1;position: relative;background-color: white;}#sk-container-id-1 div.sk-parallel-item:first-child::after {align-self: flex-end;width: 50%;}#sk-container-id-1 div.sk-parallel-item:last-child::after {align-self: flex-start;width: 50%;}#sk-container-id-1 div.sk-parallel-item:only-child::after {width: 0;}#sk-container-id-1 div.sk-dashed-wrapped {border: 1px dashed gray;margin: 0 0.4em 0.5em 0.4em;box-sizing: border-box;padding-bottom: 0.4em;background-color: white;}#sk-container-id-1 div.sk-label label {font-family: monospace;font-weight: bold;display: inline-block;line-height: 1.2em;}#sk-container-id-1 div.sk-label-container {text-align: center;}#sk-container-id-1 div.sk-container {/* jupyter's `normalize.less` sets `[hidden] { display: none; }` but bootstrap.min.css set `[hidden] { display: none !important; }` so we also need the `!important` here to be able to override the default hidden behavior on the sphinx rendered scikit-learn.org. See: https://github.com/scikit-learn/scikit-learn/issues/21755 */display: inline-block !important;position: relative;}#sk-container-id-1 div.sk-text-repr-fallback {display: none;}</style><div id=\"sk-container-id-1\" class=\"sk-top-container\"><div class=\"sk-text-repr-fallback\"><pre>LinearRegression()</pre><b>In a Jupyter environment, please rerun this cell to show the HTML representation or trust the notebook. <br />On GitHub, the HTML representation is unable to render, please try loading this page with nbviewer.org.</b></div><div class=\"sk-container\" hidden><div class=\"sk-item\"><div class=\"sk-estimator sk-toggleable\"><input class=\"sk-toggleable__control sk-hidden--visually\" id=\"sk-estimator-id-1\" type=\"checkbox\" checked><label for=\"sk-estimator-id-1\" class=\"sk-toggleable__label sk-toggleable__label-arrow\">LinearRegression</label><div class=\"sk-toggleable__content\"><pre>LinearRegression()</pre></div></div></div></div></div>"
      ],
      "text/plain": [
       "LinearRegression()"
      ]
     },
     "execution_count": 467,
     "metadata": {},
     "output_type": "execute_result"
    }
   ],
   "source": [
    "#Linear regression model\n",
    "\n",
    "model = LinearRegression()\n",
    "\n",
    "model.fit(X_train,y_train)"
   ]
  },
  {
   "cell_type": "code",
   "execution_count": 468,
   "metadata": {},
   "outputs": [
    {
     "data": {
      "text/plain": [
       "{'copy_X': True, 'fit_intercept': True, 'n_jobs': None, 'positive': False}"
      ]
     },
     "execution_count": 468,
     "metadata": {},
     "output_type": "execute_result"
    }
   ],
   "source": [
    "model.get_params()"
   ]
  },
  {
   "cell_type": "code",
   "execution_count": 469,
   "metadata": {},
   "outputs": [
    {
     "data": {
      "text/plain": [
       "array([800000., 100000., 450000., 625000., 800000., 650000., 175000.,\n",
       "       725000., 350000., 700000., 250000., 250000., 290000., 950000.,\n",
       "        50000.,  50000., 300000., 475000., 140000., 260000., 950000.,\n",
       "       100000., 275000., 800000., 875000., 700000.])"
      ]
     },
     "execution_count": 469,
     "metadata": {},
     "output_type": "execute_result"
    }
   ],
   "source": [
    "model.predict(X_test)"
   ]
  },
  {
   "cell_type": "code",
   "execution_count": 479,
   "metadata": {},
   "outputs": [
    {
     "name": "stdout",
     "output_type": "stream",
     "text": [
      "Accuracy:  1.0\n"
     ]
    }
   ],
   "source": [
    "print('Accuracy: ',model.score(X_test, y_test))"
   ]
  },
  {
   "cell_type": "code",
   "execution_count": 480,
   "metadata": {},
   "outputs": [
    {
     "data": {
      "text/plain": [
       "95     950000\n",
       "129    110000\n",
       "31     325000\n",
       "42     475000\n",
       "19     300000\n",
       "Name: SOLD PRICE, dtype: int64"
      ]
     },
     "execution_count": 480,
     "metadata": {},
     "output_type": "execute_result"
    }
   ],
   "source": [
    "y_train.head()"
   ]
  },
  {
   "cell_type": "code",
   "execution_count": 481,
   "metadata": {},
   "outputs": [
    {
     "data": {
      "text/plain": [
       "4      800000\n",
       "100    100000\n",
       "128    450000\n",
       "120    625000\n",
       "71     800000\n",
       "Name: SOLD PRICE, dtype: int64"
      ]
     },
     "execution_count": 481,
     "metadata": {},
     "output_type": "execute_result"
    }
   ],
   "source": [
    "y_test.head()"
   ]
  },
  {
   "cell_type": "code",
   "execution_count": 471,
   "metadata": {},
   "outputs": [],
   "source": [
    "# Add a constant to get an intercept\n",
    "X_train_sm = sm.add_constant(X_train)\n",
    "# Fit the resgression line using 'OLS'\n",
    "lr = sm.OLS(y_train, X_train_sm).fit()"
   ]
  },
  {
   "cell_type": "code",
   "execution_count": 472,
   "metadata": {},
   "outputs": [
    {
     "data": {
      "text/plain": [
       "const            2.980232e-08\n",
       "AGE              4.656613e-10\n",
       "T-RUNS          -3.907985e-14\n",
       "T-WKTS           5.684342e-14\n",
       "ODI-RUNS-S      -4.007905e-14\n",
       "ODI-SR-B        -7.958079e-13\n",
       "ODI-WKTS        -2.273737e-13\n",
       "ODI-SR-BL        2.273737e-13\n",
       "CAPTAINCY EXP   -1.891749e-10\n",
       "RUNS-S           1.592060e-13\n",
       "HS               8.526513e-13\n",
       "AVE             -1.637090e-11\n",
       "SR-B             2.273737e-12\n",
       "SIXERS          -1.818989e-12\n",
       "RUNS-C           3.597123e-13\n",
       "WKTS            -8.867573e-12\n",
       "AVE-BL          -1.818989e-12\n",
       "ECON            -1.193712e-12\n",
       "SR-BL            0.000000e+00\n",
       "AUCTION YEAR    -7.275958e-12\n",
       "BASE PRICE       1.000000e+00\n",
       "premium          1.000000e+00\n",
       "dtype: float64"
      ]
     },
     "execution_count": 472,
     "metadata": {},
     "output_type": "execute_result"
    }
   ],
   "source": [
    "# Print the parameters,i.e. intercept and slope of the regression line obtained\n",
    "lr.params"
   ]
  },
  {
   "cell_type": "code",
   "execution_count": 473,
   "metadata": {},
   "outputs": [
    {
     "name": "stdout",
     "output_type": "stream",
     "text": [
      "                            OLS Regression Results                            \n",
      "==============================================================================\n",
      "Dep. Variable:             SOLD PRICE   R-squared:                       1.000\n",
      "Model:                            OLS   Adj. R-squared:                  1.000\n",
      "Method:                 Least Squares   F-statistic:                 2.721e+27\n",
      "Date:                Mon, 01 Apr 2024   Prob (F-statistic):               0.00\n",
      "Time:                        21:21:58   Log-Likelihood:                 1718.1\n",
      "No. Observations:                 104   AIC:                            -3392.\n",
      "Df Residuals:                      82   BIC:                            -3334.\n",
      "Df Model:                          21                                         \n",
      "Covariance Type:            nonrobust                                         \n",
      "=================================================================================\n",
      "                    coef    std err          t      P>|t|      [0.025      0.975]\n",
      "---------------------------------------------------------------------------------\n",
      "const           2.98e-08   3.03e-06      0.010      0.992      -6e-06    6.06e-06\n",
      "AGE            4.657e-10   4.53e-09      0.103      0.918   -8.55e-09    9.49e-09\n",
      "T-RUNS        -3.908e-14   1.52e-12     -0.026      0.980   -3.06e-12    2.98e-12\n",
      "T-WKTS         5.684e-14   2.83e-11      0.002      0.998   -5.63e-11    5.64e-11\n",
      "ODI-RUNS-S    -4.008e-14   1.58e-12     -0.025      0.980   -3.19e-12    3.11e-12\n",
      "ODI-SR-B      -7.958e-13   9.17e-11     -0.009      0.993   -1.83e-10    1.82e-10\n",
      "ODI-WKTS      -2.274e-13   3.58e-11     -0.006      0.995   -7.15e-11     7.1e-11\n",
      "ODI-SR-BL      2.274e-13   8.81e-11      0.003      0.998   -1.75e-10    1.75e-10\n",
      "CAPTAINCY EXP -1.892e-10      7e-09     -0.027      0.979   -1.41e-08    1.37e-08\n",
      "RUNS-S         1.592e-13   8.63e-12      0.018      0.985    -1.7e-11    1.73e-11\n",
      "HS             8.527e-13   1.25e-10      0.007      0.995   -2.47e-10    2.49e-10\n",
      "AVE           -1.637e-11   4.22e-10     -0.039      0.969   -8.56e-10    8.23e-10\n",
      "SR-B           2.274e-12   7.87e-11      0.029      0.977   -1.54e-10    1.59e-10\n",
      "SIXERS        -1.819e-12   1.82e-10     -0.010      0.992   -3.64e-10     3.6e-10\n",
      "RUNS-C         3.597e-13   1.35e-11      0.027      0.979   -2.65e-11    2.72e-11\n",
      "WKTS          -8.868e-12   3.46e-10     -0.026      0.980   -6.98e-10     6.8e-10\n",
      "AVE-BL        -1.819e-12   5.89e-10     -0.003      0.998   -1.17e-09    1.17e-09\n",
      "ECON          -1.194e-12   6.54e-10     -0.002      0.999    -1.3e-09     1.3e-09\n",
      "SR-BL                  0   8.02e-10          0      1.000   -1.59e-09    1.59e-09\n",
      "AUCTION YEAR  -7.276e-12   1.51e-09     -0.005      0.996   -3.01e-09    2.99e-09\n",
      "BASE PRICE        1.0000   1.48e-14   6.74e+13      0.000       1.000       1.000\n",
      "premium           1.0000      7e-15   1.43e+14      0.000       1.000       1.000\n",
      "==============================================================================\n",
      "Omnibus:                        0.784   Durbin-Watson:                   0.001\n",
      "Prob(Omnibus):                  0.676   Jarque-Bera (JB):                0.417\n",
      "Skew:                           0.128   Prob(JB):                        0.812\n",
      "Kurtosis:                       3.174   Cond. No.                     8.89e+08\n",
      "==============================================================================\n",
      "\n",
      "Notes:\n",
      "[1] Standard Errors assume that the covariance matrix of the errors is correctly specified.\n",
      "[2] The condition number is large, 8.89e+08. This might indicate that there are\n",
      "strong multicollinearity or other numerical problems.\n"
     ]
    }
   ],
   "source": [
    "#Performing a summary operation lists out all different parameters of the regression line fitted\n",
    "print(lr.summary())"
   ]
  },
  {
   "cell_type": "code",
   "execution_count": 474,
   "metadata": {},
   "outputs": [],
   "source": [
    "# Add a constant to X_test\n",
    "X_test_sm = sm.add_constant(X_test)\n",
    "# Predict the y values corresponding to X_test_sm\n",
    "y_pred = lr.predict(X_test_sm)\n"
   ]
  },
  {
   "cell_type": "code",
   "execution_count": 475,
   "metadata": {},
   "outputs": [
    {
     "data": {
      "text/plain": [
       "4      800000.0\n",
       "100    100000.0\n",
       "128    450000.0\n",
       "120    625000.0\n",
       "71     800000.0\n",
       "dtype: float64"
      ]
     },
     "execution_count": 475,
     "metadata": {},
     "output_type": "execute_result"
    }
   ],
   "source": [
    "y_pred.head()"
   ]
  }
 ],
 "metadata": {
  "kernelspec": {
   "display_name": "Python 3",
   "language": "python",
   "name": "python3"
  },
  "language_info": {
   "codemirror_mode": {
    "name": "ipython",
    "version": 3
   },
   "file_extension": ".py",
   "mimetype": "text/x-python",
   "name": "python",
   "nbconvert_exporter": "python",
   "pygments_lexer": "ipython3",
   "version": "3.10.0"
  }
 },
 "nbformat": 4,
 "nbformat_minor": 2
}
